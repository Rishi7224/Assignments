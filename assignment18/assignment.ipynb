{
 "cells": [
  {
   "cell_type": "markdown",
   "metadata": {},
   "source": [
    "# Q1\n"
   ]
  },
  {
   "cell_type": "code",
   "execution_count": 1,
   "metadata": {},
   "outputs": [
    {
     "name": "stdout",
     "output_type": "stream",
     "text": [
      "Merging of the lists: ['5', ',', '4', '1', '6', '3', '2']\n"
     ]
    }
   ],
   "source": [
    "def merge_lists(list1, list2):\n",
    "   \n",
    "    set1 = set(list1)\n",
    "    set2 = set(list2)\n",
    " \n",
    "    merge_sets = set1.union(set2)\n",
    "   \n",
    "    return list(merge_sets)\n",
    "\n",
    "\n",
    "list1 = list(input('Enter list 1 :'))\n",
    "list2 = list(input('Enter list 2 :'))\n",
    "merged_list = merge_lists(list1, list2)\n",
    "print(\"Merging of the lists:\", merged_list)"
   ]
  },
  {
   "cell_type": "markdown",
   "metadata": {},
   "source": [
    "# Q2"
   ]
  },
  {
   "cell_type": "code",
   "execution_count": 2,
   "metadata": {},
   "outputs": [
    {
     "name": "stdout",
     "output_type": "stream",
     "text": [
      "Intersection of the lists: ['5', ',', '4', '3', '1']\n"
     ]
    }
   ],
   "source": [
    "def list_intersection(list1, list2):\n",
    "  \n",
    "    set1 = set(list1)\n",
    "    set2 = set(list2)\n",
    "    \n",
    "    intersection_set = set1.intersection(set2)\n",
    "  \n",
    "    return list(intersection_set)\n",
    "\n",
    "\n",
    "list1 = list(input('Enter list 1 :'))\n",
    "list2 = list(input('Enter list 2 :'))\n",
    "intersection_list = list_intersection(list1, list2)\n",
    "print(\"Intersection of the lists:\", intersection_list)"
   ]
  },
  {
   "cell_type": "code",
   "execution_count": null,
   "metadata": {},
   "outputs": [],
   "source": []
  }
 ],
 "metadata": {
  "kernelspec": {
   "display_name": "Python 3",
   "language": "python",
   "name": "python3"
  },
  "language_info": {
   "codemirror_mode": {
    "name": "ipython",
    "version": 3
   },
   "file_extension": ".py",
   "mimetype": "text/x-python",
   "name": "python",
   "nbconvert_exporter": "python",
   "pygments_lexer": "ipython3",
   "version": "3.12.3"
  }
 },
 "nbformat": 4,
 "nbformat_minor": 2
}
