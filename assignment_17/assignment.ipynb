{
 "cells": [
  {
   "cell_type": "code",
   "execution_count": 1,
   "metadata": {},
   "outputs": [
    {
     "name": "stdout",
     "output_type": "stream",
     "text": [
      "Even Numbers\n",
      "96\n",
      "64\n",
      "12\n",
      "32\n",
      "56\n",
      "Sum of Even Numbers  260\n",
      "Average of Even Numbers  52.0\n",
      " \n",
      "Odd Numbers\n",
      "25\n",
      "41\n",
      "85\n",
      "35\n",
      "75\n",
      "9\n",
      "21\n",
      "23\n",
      "25\n",
      "Sum of Odd Numbers  339\n",
      "Average of Odd Numbers  37.666666666666664\n"
     ]
    }
   ],
   "source": [
    "lst = [25,41,85,96,35,64,75,9,12,21,32,23,25,56]\n",
    "print('Even Numbers')\n",
    "sum = 0\n",
    "count = 0\n",
    "for item in lst:   \n",
    "    if(item%2==0):       \n",
    "        print(item)\n",
    "        sum = sum + item           \n",
    "        item +=1\n",
    "        count+=1\n",
    "        \n",
    "print('Sum of Even Numbers ' ,sum)         \n",
    "avg = sum/count        \n",
    "print('Average of Even Numbers ' ,avg)    \n",
    "print(\" \")\n",
    "print('Odd Numbers')\n",
    "sum = 0\n",
    "count = 0\n",
    "for item in lst:   \n",
    "    if(item%2==1):       \n",
    "        print(item)\n",
    "        sum = sum + item           \n",
    "        item +=1\n",
    "        count+=1\n",
    "        \n",
    "print('Sum of Odd Numbers ' ,sum)         \n",
    "avg = sum/count        \n",
    "print('Average of Odd Numbers ' ,avg)"
   ]
  },
  {
   "cell_type": "code",
   "execution_count": 2,
   "metadata": {},
   "outputs": [
    {
     "name": "stdout",
     "output_type": "stream",
     "text": [
      "Linear Search: Found 32 at index 1\n",
      "Binary Search: Found 32 at index 1\n"
     ]
    }
   ],
   "source": [
    "def linear_search(arr, target):\n",
    "    for i in range(len(arr)):\n",
    "        if arr[i] == target:\n",
    "            return i\n",
    "    return -1  # Target not found\n",
    "\n",
    "# Binary Search \n",
    "def binary_search(arr, target):\n",
    "    low = 0\n",
    "    high = len(arr) - 1\n",
    "\n",
    "    while low <= high:\n",
    "        mid = (low + high) // 2\n",
    "        if arr[mid] == target:\n",
    "            return mid\n",
    "        elif arr[mid] < target:\n",
    "            low = mid + 1\n",
    "        else:\n",
    "            high = mid - 1\n",
    "\n",
    "    return -1  # Target not found\n",
    "\n",
    "arr = [12, 32, 56, 64, 96]\n",
    "target = 32\n",
    "\n",
    "# Linear Search\n",
    "linear_result = linear_search(arr, target)\n",
    "if linear_result != -1:\n",
    "    print(f\"Linear Search: Found {target} at index {linear_result}\")\n",
    "else:\n",
    "    print(\"Linear Search: Target not found\")\n",
    "\n",
    "# Binary Search\n",
    "binary_result = binary_search(arr, target)\n",
    "if binary_result != -1:\n",
    "    print(f\"Binary Search: Found {target} at index {binary_result}\")\n",
    "else:\n",
    "    print(\"Binary Search: Target not found\")"
   ]
  },
  {
   "cell_type": "code",
   "execution_count": 3,
   "metadata": {},
   "outputs": [
    {
     "name": "stdout",
     "output_type": "stream",
     "text": [
      "Original list: [25, 41, 85, 96, 35, 64, 75, 9, 12, 21, 32, 23, 25, 56]\n",
      "Squares of elements: [625, 1681, 7225, 9216, 1225, 4096, 5625, 81, 144, 441, 1024, 529, 625, 3136]\n",
      "Even numbers: [96, 64, 12, 32, 56]\n"
     ]
    }
   ],
   "source": [
    "lst = [25, 41, 85, 96, 35, 64, 75, 9, 12, 21, 32, 23, 25, 56]\n",
    "\n",
    "# Generating a list of square elements\n",
    "squares = [x**2 for x in lst]\n",
    "\n",
    "# Filtering even numbers\n",
    "evens = [x for x in lst if x % 2 == 0]\n",
    "\n",
    "print(\"Original list:\", lst)\n",
    "print(\"Squares of elements:\", squares)\n",
    "print(\"Even numbers:\", evens)"
   ]
  },
  {
   "cell_type": "code",
   "execution_count": null,
   "metadata": {},
   "outputs": [],
   "source": []
  }
 ],
 "metadata": {
  "kernelspec": {
   "display_name": "Python 3",
   "language": "python",
   "name": "python3"
  },
  "language_info": {
   "codemirror_mode": {
    "name": "ipython",
    "version": 3
   },
   "file_extension": ".py",
   "mimetype": "text/x-python",
   "name": "python",
   "nbconvert_exporter": "python",
   "pygments_lexer": "ipython3",
   "version": "3.12.3"
  }
 },
 "nbformat": 4,
 "nbformat_minor": 2
}
