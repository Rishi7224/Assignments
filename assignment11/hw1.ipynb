{
 "cells": [
  {
   "cell_type": "code",
   "execution_count": null,
   "metadata": {},
   "outputs": [],
   "source": [
    "import numpy as np\n",
    "\n",
    "array = np.random.randint(0, 100, size=(12, 5))\n",
    "\n",
    "array[-1] = [1, 2, 3, 4, 5]\n",
    "\n",
    "print(\"Original array:\")\n",
    "print(array)"
   ]
  }
 ],
 "metadata": {
  "language_info": {
   "name": "python"
  }
 },
 "nbformat": 4,
 "nbformat_minor": 2
}
