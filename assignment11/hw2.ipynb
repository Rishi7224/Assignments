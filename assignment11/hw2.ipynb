{
 "cells": [
  {
   "cell_type": "code",
   "execution_count": null,
   "metadata": {},
   "outputs": [],
   "source": [
    "import numpy as np\n",
    "\n",
    "def min_max_per_row(array):\n",
    "    min_max_array = np.empty((array.shape[0], 2), dtype=int)\n",
    "    for i, row in enumerate(array):\n",
    "        min_max_array[i] = [np.min(row), np.max(row)]\n",
    "    return min_max_array\n",
    "\n",
    "array = np.random.randint(0, 100, size=(12, 5))\n",
    "\n",
    "result = min_max_per_row(array)\n",
    "\n",
    "print(\"Minimum and Maximum elements in each row:\")\n",
    "print(result)"
   ]
  }
 ],
 "metadata": {
  "language_info": {
   "name": "python"
  }
 },
 "nbformat": 4,
 "nbformat_minor": 2
}
